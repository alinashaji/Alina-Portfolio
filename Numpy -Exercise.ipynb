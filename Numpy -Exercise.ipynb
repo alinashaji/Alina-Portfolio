{
 "cells": [
  {
   "cell_type": "markdown",
   "id": "26804a2e",
   "metadata": {},
   "source": [
    "# NUMPY LAB EXERCISES"
   ]
  },
  {
   "cell_type": "markdown",
   "id": "3d9aee5f",
   "metadata": {},
   "source": [
    "1)** IMPORT numpy package as np **"
   ]
  },
  {
   "cell_type": "code",
   "execution_count": 1,
   "id": "a8774e0d",
   "metadata": {},
   "outputs": [],
   "source": [
    "import numpy as np"
   ]
  },
  {
   "cell_type": "markdown",
   "id": "0584e7f7",
   "metadata": {},
   "source": [
    "2) Create an empty array pf 20 0's and replace the fourth object with number 5"
   ]
  },
  {
   "cell_type": "code",
   "execution_count": 12,
   "id": "8587d522",
   "metadata": {},
   "outputs": [
    {
     "data": {
      "text/plain": [
       "array([0., 0., 0., 5., 0., 0., 0., 0., 0., 0., 0., 0., 0., 0., 0., 0., 0.,\n",
       "       0., 0., 0.])"
      ]
     },
     "execution_count": 12,
     "metadata": {},
     "output_type": "execute_result"
    }
   ],
   "source": [
    "a= np.zeros(20)\n",
    "a[3]=5\n",
    "a"
   ]
  },
  {
   "cell_type": "markdown",
   "id": "4866c84c",
   "metadata": {},
   "source": [
    "3) Create an array of 20 1's and store it in a variable named array_master. Copy the same variable into another variable called array_copy"
   ]
  },
  {
   "cell_type": "code",
   "execution_count": 7,
   "id": "1e3c5a0d",
   "metadata": {},
   "outputs": [
    {
     "data": {
      "text/plain": [
       "array([1., 1., 1., 1., 1., 1., 1., 1., 1., 1., 1., 1., 1., 1., 1., 1., 1.,\n",
       "       1., 1., 1.])"
      ]
     },
     "execution_count": 7,
     "metadata": {},
     "output_type": "execute_result"
    }
   ],
   "source": [
    "array_master = np.ones(20)\n",
    "array_copy = array_master.copy()\n",
    "array_copy"
   ]
  },
  {
   "cell_type": "markdown",
   "id": "faac410e",
   "metadata": {},
   "source": [
    "4) Create an array contain 30 1's and broadcast all the ones to 100"
   ]
  },
  {
   "cell_type": "code",
   "execution_count": 8,
   "id": "2a8477aa",
   "metadata": {},
   "outputs": [
    {
     "data": {
      "text/plain": [
       "array([100., 100., 100., 100., 100., 100., 100., 100., 100., 100., 100.,\n",
       "       100., 100., 100., 100., 100., 100., 100., 100., 100., 100., 100.,\n",
       "       100., 100., 100., 100., 100., 100., 100., 100.])"
      ]
     },
     "execution_count": 8,
     "metadata": {},
     "output_type": "execute_result"
    }
   ],
   "source": [
    "a= np.ones(30)\n",
    "a[:] = 100\n",
    "a"
   ]
  },
  {
   "cell_type": "markdown",
   "id": "847a1485",
   "metadata": {},
   "source": [
    "5) Create an array of integers starting from 21 to 31 and name it as array1\n",
    "\n",
    "Create an array of integers starting from 11 to 21 and name it as array2\n",
    "\n",
    "Calculate difference between array1 and array2"
   ]
  },
  {
   "cell_type": "code",
   "execution_count": 9,
   "id": "5b8d2637",
   "metadata": {},
   "outputs": [
    {
     "data": {
      "text/plain": [
       "array([10, 10, 10, 10, 10, 10, 10, 10, 10, 10, 10])"
      ]
     },
     "execution_count": 9,
     "metadata": {},
     "output_type": "execute_result"
    }
   ],
   "source": [
    "array1= np.arange(21,32)\n",
    "array2= np.arange(11, 22)\n",
    "array1-array2"
   ]
  },
  {
   "cell_type": "markdown",
   "id": "fba5d3e1",
   "metadata": {},
   "source": [
    "6) Create an array of all even integers from 2 to 10 and name it a1\n",
    "\n",
    "Create an array of all even integers from 22 to 30 and name it as a2\n",
    "\n",
    "a) Use the 2 arrays as rows and create a matrix"
   ]
  },
  {
   "cell_type": "code",
   "execution_count": 10,
   "id": "e65680f3",
   "metadata": {},
   "outputs": [
    {
     "data": {
      "text/plain": [
       "array([[ 2,  4,  6,  8, 10],\n",
       "       [22, 24, 26, 28, 30]])"
      ]
     },
     "execution_count": 10,
     "metadata": {},
     "output_type": "execute_result"
    }
   ],
   "source": [
    "a1 = np.arange(2,11,2)\n",
    "a2 = np.arange(22,31,2)\n",
    "np.stack((a1,a2))"
   ]
  },
  {
   "cell_type": "markdown",
   "id": "598b4a80",
   "metadata": {},
   "source": [
    "b) Use the 2 arrays as column and create a matrix"
   ]
  },
  {
   "cell_type": "code",
   "execution_count": 11,
   "id": "9c9e5e52",
   "metadata": {},
   "outputs": [
    {
     "data": {
      "text/plain": [
       "array([[ 2, 22],\n",
       "       [ 4, 24],\n",
       "       [ 6, 26],\n",
       "       [ 8, 28],\n",
       "       [10, 30]])"
      ]
     },
     "execution_count": 11,
     "metadata": {},
     "output_type": "execute_result"
    }
   ],
   "source": [
    "a1 = np.arange(2,11,2)\n",
    "a2 = np.arange(22,31,2)\n",
    "np.column_stack((a1,a2))"
   ]
  },
  {
   "cell_type": "markdown",
   "id": "0c6f1a58",
   "metadata": {},
   "source": [
    "7) Create a 5x6 matrix with values ranging from 0 to 29 and retrieve the value intersecting at 2nd row and 3rd column"
   ]
  },
  {
   "cell_type": "code",
   "execution_count": 15,
   "id": "71cb4ff9",
   "metadata": {},
   "outputs": [
    {
     "data": {
      "text/plain": [
       "8"
      ]
     },
     "execution_count": 15,
     "metadata": {},
     "output_type": "execute_result"
    }
   ],
   "source": [
    "a = np.arange(30). reshape(5,6)\n",
    "a[1,2]"
   ]
  },
  {
   "cell_type": "markdown",
   "id": "996bdfa3",
   "metadata": {},
   "source": [
    "8) Create an identity matrix of shape 10x10 and replace the 0's with value 21"
   ]
  },
  {
   "cell_type": "code",
   "execution_count": 17,
   "id": "2de09ee6",
   "metadata": {},
   "outputs": [
    {
     "data": {
      "text/plain": [
       "array([[ 1., 21., 21., 21., 21., 21., 21., 21., 21., 21.],\n",
       "       [21.,  1., 21., 21., 21., 21., 21., 21., 21., 21.],\n",
       "       [21., 21.,  1., 21., 21., 21., 21., 21., 21., 21.],\n",
       "       [21., 21., 21.,  1., 21., 21., 21., 21., 21., 21.],\n",
       "       [21., 21., 21., 21.,  1., 21., 21., 21., 21., 21.],\n",
       "       [21., 21., 21., 21., 21.,  1., 21., 21., 21., 21.],\n",
       "       [21., 21., 21., 21., 21., 21.,  1., 21., 21., 21.],\n",
       "       [21., 21., 21., 21., 21., 21., 21.,  1., 21., 21.],\n",
       "       [21., 21., 21., 21., 21., 21., 21., 21.,  1., 21.],\n",
       "       [21., 21., 21., 21., 21., 21., 21., 21., 21.,  1.]])"
      ]
     },
     "execution_count": 17,
     "metadata": {},
     "output_type": "execute_result"
    }
   ],
   "source": [
    "arr = np.eye(10)\n",
    "arr[arr==0] = 21\n",
    "arr"
   ]
  },
  {
   "cell_type": "markdown",
   "id": "f8aad8b1",
   "metadata": {},
   "source": [
    "9)Use numpy to generate a random set of 10 numbers between 0 and 1\n",
    "Display a boolean array output where all values greater than 0.2 are True and rest marked False"
   ]
  },
  {
   "cell_type": "code",
   "execution_count": 19,
   "id": "20bfd8ac",
   "metadata": {},
   "outputs": [
    {
     "data": {
      "text/plain": [
       "array([False, False, False, False, False, False,  True, False, False,\n",
       "        True])"
      ]
     },
     "execution_count": 19,
     "metadata": {},
     "output_type": "execute_result"
    }
   ],
   "source": [
    "a= np.random.randn(10)\n",
    "a>0.2"
   ]
  },
  {
   "cell_type": "markdown",
   "id": "4e5bf6b4",
   "metadata": {},
   "source": [
    "10) Use numpy to generate an array of 5x2 matrix random numbers sampled from a standard normal distribution"
   ]
  },
  {
   "cell_type": "code",
   "execution_count": 20,
   "id": "02bfd60a",
   "metadata": {},
   "outputs": [
    {
     "data": {
      "text/plain": [
       "array([[-1.2398516 ,  0.46735771],\n",
       "       [-1.01493789,  1.34902245],\n",
       "       [ 2.04526113, -0.54134033],\n",
       "       [ 1.76133885, -0.95301972],\n",
       "       [ 0.31505965, -1.50077003]])"
      ]
     },
     "execution_count": 20,
     "metadata": {},
     "output_type": "execute_result"
    }
   ],
   "source": [
    "np.random.randn(5,2)"
   ]
  },
  {
   "cell_type": "markdown",
   "id": "d7640e6d",
   "metadata": {},
   "source": [
    "11)Create an array of 30 linearly spaced points between 0 and 100"
   ]
  },
  {
   "cell_type": "code",
   "execution_count": 21,
   "id": "6c1390fd",
   "metadata": {},
   "outputs": [
    {
     "data": {
      "text/plain": [
       "array([  0.        ,   3.44827586,   6.89655172,  10.34482759,\n",
       "        13.79310345,  17.24137931,  20.68965517,  24.13793103,\n",
       "        27.5862069 ,  31.03448276,  34.48275862,  37.93103448,\n",
       "        41.37931034,  44.82758621,  48.27586207,  51.72413793,\n",
       "        55.17241379,  58.62068966,  62.06896552,  65.51724138,\n",
       "        68.96551724,  72.4137931 ,  75.86206897,  79.31034483,\n",
       "        82.75862069,  86.20689655,  89.65517241,  93.10344828,\n",
       "        96.55172414, 100.        ])"
      ]
     },
     "execution_count": 21,
     "metadata": {},
     "output_type": "execute_result"
    }
   ],
   "source": [
    "np.linspace(0,100,30)"
   ]
  },
  {
   "cell_type": "markdown",
   "id": "0790c6bd",
   "metadata": {},
   "source": [
    "# NUMPY INDEXING AND SELECTIONS"
   ]
  },
  {
   "cell_type": "markdown",
   "id": "44281445",
   "metadata": {},
   "source": [
    "Using the below given matrix , generate output for below questions"
   ]
  },
  {
   "cell_type": "code",
   "execution_count": 22,
   "id": "f000eca2",
   "metadata": {},
   "outputs": [
    {
     "data": {
      "text/plain": [
       "array([[  1,   2,   3,   4,   5,   6,   7,   8,   9,  10],\n",
       "       [ 11,  12,  13,  14,  15,  16,  17,  18,  19,  20],\n",
       "       [ 21,  22,  23,  24,  25,  26,  27,  28,  29,  30],\n",
       "       [ 31,  32,  33,  34,  35,  36,  37,  38,  39,  40],\n",
       "       [ 41,  42,  43,  44,  45,  46,  47,  48,  49,  50],\n",
       "       [ 51,  52,  53,  54,  55,  56,  57,  58,  59,  60],\n",
       "       [ 61,  62,  63,  64,  65,  66,  67,  68,  69,  70],\n",
       "       [ 71,  72,  73,  74,  75,  76,  77,  78,  79,  80],\n",
       "       [ 81,  82,  83,  84,  85,  86,  87,  88,  89,  90],\n",
       "       [ 91,  92,  93,  94,  95,  96,  97,  98,  99, 100]])"
      ]
     },
     "execution_count": 22,
     "metadata": {},
     "output_type": "execute_result"
    }
   ],
   "source": [
    "\n",
    "simple_matrix = np.arange(1,101).reshape(10,10)\n",
    "simple_matrix"
   ]
  },
  {
   "cell_type": "markdown",
   "id": "138e5b3e",
   "metadata": {},
   "source": [
    "1) Retrieve the last 2 rows and first 3 column values of the above matrix using index and selection technique"
   ]
  },
  {
   "cell_type": "code",
   "execution_count": 26,
   "id": "ac1c05c2",
   "metadata": {},
   "outputs": [
    {
     "data": {
      "text/plain": [
       "array([[81, 82, 83],\n",
       "       [91, 92, 93]])"
      ]
     },
     "execution_count": 26,
     "metadata": {},
     "output_type": "execute_result"
    }
   ],
   "source": [
    "simple_matrix[8:, 0:3]"
   ]
  },
  {
   "cell_type": "markdown",
   "id": "f7892c6e",
   "metadata": {},
   "source": [
    "2)Retrieve the value 55 from the above matrix using index and selection technique"
   ]
  },
  {
   "cell_type": "code",
   "execution_count": 27,
   "id": "4ef8f572",
   "metadata": {},
   "outputs": [
    {
     "data": {
      "text/plain": [
       "55"
      ]
     },
     "execution_count": 27,
     "metadata": {},
     "output_type": "execute_result"
    }
   ],
   "source": [
    "simple_matrix[5,4]"
   ]
  },
  {
   "cell_type": "markdown",
   "id": "6e7d7959",
   "metadata": {},
   "source": [
    "3) Retrieve the value from the third column in the above matrix"
   ]
  },
  {
   "cell_type": "code",
   "execution_count": 29,
   "id": "27bc37ef",
   "metadata": {},
   "outputs": [
    {
     "data": {
      "text/plain": [
       "array([ 3, 13, 23, 33, 43, 53, 63, 73, 83, 93])"
      ]
     },
     "execution_count": 29,
     "metadata": {},
     "output_type": "execute_result"
    }
   ],
   "source": [
    "simple_matrix[:,2]"
   ]
  },
  {
   "cell_type": "markdown",
   "id": "49f50b7d",
   "metadata": {},
   "source": [
    "4) Retrieve the value from the fourth row"
   ]
  },
  {
   "cell_type": "code",
   "execution_count": 30,
   "id": "6b60826e",
   "metadata": {},
   "outputs": [
    {
     "data": {
      "text/plain": [
       "array([31, 32, 33, 34, 35, 36, 37, 38, 39, 40])"
      ]
     },
     "execution_count": 30,
     "metadata": {},
     "output_type": "execute_result"
    }
   ],
   "source": [
    "simple_matrix[3,:]"
   ]
  },
  {
   "cell_type": "markdown",
   "id": "25f3bfd7",
   "metadata": {},
   "source": [
    "5) Retrieve values from the 2nd and 4th rows in the above matrix"
   ]
  },
  {
   "cell_type": "code",
   "execution_count": 31,
   "id": "10f05528",
   "metadata": {},
   "outputs": [
    {
     "data": {
      "text/plain": [
       "array([[11, 12, 13, 14, 15, 16, 17, 18, 19, 20],\n",
       "       [31, 32, 33, 34, 35, 36, 37, 38, 39, 40]])"
      ]
     },
     "execution_count": 31,
     "metadata": {},
     "output_type": "execute_result"
    }
   ],
   "source": [
    "simple_matrix[(1,3), :]"
   ]
  },
  {
   "cell_type": "markdown",
   "id": "cf7c97d1",
   "metadata": {},
   "source": [
    "# Calculate following values for given matrix"
   ]
  },
  {
   "cell_type": "markdown",
   "id": "31117dc5",
   "metadata": {},
   "source": [
    "1) Calculate the sum of all values in the matrix"
   ]
  },
  {
   "cell_type": "code",
   "execution_count": 32,
   "id": "185fd135",
   "metadata": {},
   "outputs": [
    {
     "data": {
      "text/plain": [
       "5050"
      ]
     },
     "execution_count": 32,
     "metadata": {},
     "output_type": "execute_result"
    }
   ],
   "source": [
    "simple_matrix.sum()"
   ]
  },
  {
   "cell_type": "markdown",
   "id": "fc23d610",
   "metadata": {},
   "source": [
    "2) Calculate the std in the matrix"
   ]
  },
  {
   "cell_type": "code",
   "execution_count": 33,
   "id": "8a89b056",
   "metadata": {},
   "outputs": [
    {
     "data": {
      "text/plain": [
       "28.86607004772212"
      ]
     },
     "execution_count": 33,
     "metadata": {},
     "output_type": "execute_result"
    }
   ],
   "source": [
    "simple_matrix.std()"
   ]
  },
  {
   "cell_type": "markdown",
   "id": "2d5870da",
   "metadata": {},
   "source": [
    "3)Calculate Variance"
   ]
  },
  {
   "cell_type": "code",
   "execution_count": 34,
   "id": "ccc5fead",
   "metadata": {},
   "outputs": [
    {
     "data": {
      "text/plain": [
       "833.25"
      ]
     },
     "execution_count": 34,
     "metadata": {},
     "output_type": "execute_result"
    }
   ],
   "source": [
    "simple_matrix.var()"
   ]
  },
  {
   "cell_type": "markdown",
   "id": "8859caa6",
   "metadata": {},
   "source": [
    "4) Calculate mean of all values in the matrix"
   ]
  },
  {
   "cell_type": "code",
   "execution_count": 35,
   "id": "898a4117",
   "metadata": {},
   "outputs": [
    {
     "data": {
      "text/plain": [
       "50.5"
      ]
     },
     "execution_count": 35,
     "metadata": {},
     "output_type": "execute_result"
    }
   ],
   "source": [
    "simple_matrix.mean()"
   ]
  },
  {
   "cell_type": "markdown",
   "id": "ce204787",
   "metadata": {},
   "source": [
    "5) Retrieve the largest number from the matrix"
   ]
  },
  {
   "cell_type": "code",
   "execution_count": 36,
   "id": "a9b0471a",
   "metadata": {},
   "outputs": [
    {
     "data": {
      "text/plain": [
       "100"
      ]
     },
     "execution_count": 36,
     "metadata": {},
     "output_type": "execute_result"
    }
   ],
   "source": [
    "simple_matrix.max()"
   ]
  },
  {
   "cell_type": "markdown",
   "id": "7a4e9a59",
   "metadata": {},
   "source": [
    "6) Retrieve the smallest number from the matrix"
   ]
  },
  {
   "cell_type": "code",
   "execution_count": 38,
   "id": "eda43559",
   "metadata": {},
   "outputs": [
    {
     "data": {
      "text/plain": [
       "1"
      ]
     },
     "execution_count": 38,
     "metadata": {},
     "output_type": "execute_result"
    }
   ],
   "source": [
    "simple_matrix.min()"
   ]
  },
  {
   "cell_type": "code",
   "execution_count": null,
   "id": "b3cade17",
   "metadata": {},
   "outputs": [],
   "source": []
  }
 ],
 "metadata": {
  "kernelspec": {
   "display_name": "Python 3",
   "language": "python",
   "name": "python3"
  },
  "language_info": {
   "codemirror_mode": {
    "name": "ipython",
    "version": 3
   },
   "file_extension": ".py",
   "mimetype": "text/x-python",
   "name": "python",
   "nbconvert_exporter": "python",
   "pygments_lexer": "ipython3",
   "version": "3.8.8"
  }
 },
 "nbformat": 4,
 "nbformat_minor": 5
}
