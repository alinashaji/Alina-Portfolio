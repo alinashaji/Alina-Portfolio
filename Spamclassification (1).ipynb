{
 "cells": [
  {
   "cell_type": "markdown",
   "id": "42a05c88",
   "metadata": {},
   "source": [
    "# Problem Statement"
   ]
  },
  {
   "cell_type": "markdown",
   "id": "c23096ac",
   "metadata": {},
   "source": [
    "As data scientists, you are assigned with a task to categorize the messages in the dataset \"SPAMdata\" as spam or ham.\n",
    "The project's primary objective is to find spam messages."
   ]
  },
  {
   "cell_type": "markdown",
   "id": "49c7ebc0",
   "metadata": {},
   "source": [
    "Approach: Data analysis came first, then feature extraction, data preparation, and data modeling."
   ]
  },
  {
   "cell_type": "markdown",
   "id": "4c6b76da",
   "metadata": {},
   "source": [
    "# Importing libraries"
   ]
  },
  {
   "cell_type": "code",
   "execution_count": 28,
   "id": "52c42a61",
   "metadata": {},
   "outputs": [],
   "source": [
    "import numpy as np\n",
    "import pandas as pd\n",
    "import matplotlib.pyplot as plt\n",
    "import seaborn as sns\n",
    "from wordcloud import WordCloud\n",
    "from sklearn.model_selection import train_test_split\n",
    "from sklearn.ensemble import RandomForestClassifier\n",
    "from sklearn.svm import SVC\n",
    "from sklearn.metrics import accuracy_score, classification_report, confusion_matrix\n",
    "from sklearn.pipeline import Pipeline\n",
    "from sklearn.feature_extraction.text import TfidfVectorizer, CountVectorizer\n",
    "from sklearn.tree import DecisionTreeClassifier\n",
    "from sklearn.metrics import accuracy_score\n",
    "from sklearn.metrics import confusion_matrix\n",
    "import string\n",
    "import spacy\n",
    "from spacy.lang.en.stop_words import STOP_WORDS\n",
    "from spacy.lang.en import English\n",
    "from sklearn.metrics import accuracy_score\n",
    "from sklearn.tree import DecisionTreeClassifier\n",
    "from sklearn.model_selection import GridSearchCV\n",
    "import sklearn.model_selection\n",
    "from sklearn import decomposition"
   ]
  },
  {
   "cell_type": "markdown",
   "id": "cca365a7",
   "metadata": {},
   "source": [
    "# Loading Dataset"
   ]
  },
  {
   "cell_type": "code",
   "execution_count": 2,
   "id": "d07e4739",
   "metadata": {},
   "outputs": [
    {
     "data": {
      "text/html": [
       "<div>\n",
       "<style scoped>\n",
       "    .dataframe tbody tr th:only-of-type {\n",
       "        vertical-align: middle;\n",
       "    }\n",
       "\n",
       "    .dataframe tbody tr th {\n",
       "        vertical-align: top;\n",
       "    }\n",
       "\n",
       "    .dataframe thead th {\n",
       "        text-align: right;\n",
       "    }\n",
       "</style>\n",
       "<table border=\"1\" class=\"dataframe\">\n",
       "  <thead>\n",
       "    <tr style=\"text-align: right;\">\n",
       "      <th></th>\n",
       "      <th>Category</th>\n",
       "      <th>Message</th>\n",
       "    </tr>\n",
       "  </thead>\n",
       "  <tbody>\n",
       "    <tr>\n",
       "      <th>0</th>\n",
       "      <td>ham</td>\n",
       "      <td>Go until jurong point, crazy.. Available only ...</td>\n",
       "    </tr>\n",
       "    <tr>\n",
       "      <th>1</th>\n",
       "      <td>ham</td>\n",
       "      <td>Ok lar... Joking wif u oni...</td>\n",
       "    </tr>\n",
       "    <tr>\n",
       "      <th>2</th>\n",
       "      <td>spam</td>\n",
       "      <td>Free entry in 2 a wkly comp to win FA Cup fina...</td>\n",
       "    </tr>\n",
       "    <tr>\n",
       "      <th>3</th>\n",
       "      <td>ham</td>\n",
       "      <td>U dun say so early hor... U c already then say...</td>\n",
       "    </tr>\n",
       "    <tr>\n",
       "      <th>4</th>\n",
       "      <td>ham</td>\n",
       "      <td>Nah I don't think he goes to usf, he lives aro...</td>\n",
       "    </tr>\n",
       "  </tbody>\n",
       "</table>\n",
       "</div>"
      ],
      "text/plain": [
       "  Category                                            Message\n",
       "0      ham  Go until jurong point, crazy.. Available only ...\n",
       "1      ham                      Ok lar... Joking wif u oni...\n",
       "2     spam  Free entry in 2 a wkly comp to win FA Cup fina...\n",
       "3      ham  U dun say so early hor... U c already then say...\n",
       "4      ham  Nah I don't think he goes to usf, he lives aro..."
      ]
     },
     "execution_count": 2,
     "metadata": {},
     "output_type": "execute_result"
    }
   ],
   "source": [
    "df = pd.read_csv(\"../../datasets/SPAMData.csv\")\n",
    "df.head()"
   ]
  },
  {
   "cell_type": "markdown",
   "id": "abde0049",
   "metadata": {},
   "source": [
    "There are two key columns in the dataset: \"the spam message\" and \"spam, ham.\" The label spam denotes that the communication is spam, whereas the label ham denotes that it is not."
   ]
  },
  {
   "cell_type": "code",
   "execution_count": 3,
   "id": "05986f19",
   "metadata": {},
   "outputs": [
    {
     "data": {
      "text/html": [
       "<div>\n",
       "<style scoped>\n",
       "    .dataframe tbody tr th:only-of-type {\n",
       "        vertical-align: middle;\n",
       "    }\n",
       "\n",
       "    .dataframe tbody tr th {\n",
       "        vertical-align: top;\n",
       "    }\n",
       "\n",
       "    .dataframe thead th {\n",
       "        text-align: right;\n",
       "    }\n",
       "</style>\n",
       "<table border=\"1\" class=\"dataframe\">\n",
       "  <thead>\n",
       "    <tr style=\"text-align: right;\">\n",
       "      <th></th>\n",
       "      <th>Category</th>\n",
       "      <th>Message</th>\n",
       "      <th>length</th>\n",
       "    </tr>\n",
       "  </thead>\n",
       "  <tbody>\n",
       "    <tr>\n",
       "      <th>0</th>\n",
       "      <td>ham</td>\n",
       "      <td>Go until jurong point, crazy.. Available only ...</td>\n",
       "      <td>111</td>\n",
       "    </tr>\n",
       "    <tr>\n",
       "      <th>1</th>\n",
       "      <td>ham</td>\n",
       "      <td>Ok lar... Joking wif u oni...</td>\n",
       "      <td>29</td>\n",
       "    </tr>\n",
       "    <tr>\n",
       "      <th>2</th>\n",
       "      <td>spam</td>\n",
       "      <td>Free entry in 2 a wkly comp to win FA Cup fina...</td>\n",
       "      <td>155</td>\n",
       "    </tr>\n",
       "    <tr>\n",
       "      <th>3</th>\n",
       "      <td>ham</td>\n",
       "      <td>U dun say so early hor... U c already then say...</td>\n",
       "      <td>49</td>\n",
       "    </tr>\n",
       "    <tr>\n",
       "      <th>4</th>\n",
       "      <td>ham</td>\n",
       "      <td>Nah I don't think he goes to usf, he lives aro...</td>\n",
       "      <td>61</td>\n",
       "    </tr>\n",
       "  </tbody>\n",
       "</table>\n",
       "</div>"
      ],
      "text/plain": [
       "  Category                                            Message  length\n",
       "0      ham  Go until jurong point, crazy.. Available only ...     111\n",
       "1      ham                      Ok lar... Joking wif u oni...      29\n",
       "2     spam  Free entry in 2 a wkly comp to win FA Cup fina...     155\n",
       "3      ham  U dun say so early hor... U c already then say...      49\n",
       "4      ham  Nah I don't think he goes to usf, he lives aro...      61"
      ]
     },
     "execution_count": 3,
     "metadata": {},
     "output_type": "execute_result"
    }
   ],
   "source": [
    "#Calculating the length of the message\n",
    "df[\"length\"]= df[\"Message\"].apply(len)\n",
    "df.head()"
   ]
  },
  {
   "cell_type": "code",
   "execution_count": 4,
   "id": "37f76569",
   "metadata": {},
   "outputs": [
    {
     "data": {
      "text/plain": [
       "910"
      ]
     },
     "execution_count": 4,
     "metadata": {},
     "output_type": "execute_result"
    }
   ],
   "source": [
    "#Finding out the maximum length of a message\n",
    "df[\"length\"].max()"
   ]
  },
  {
   "cell_type": "markdown",
   "id": "c0bb977e",
   "metadata": {},
   "source": [
    "We discovered that a message's maximum length is \"910.\""
   ]
  },
  {
   "cell_type": "code",
   "execution_count": 5,
   "id": "59ecd691",
   "metadata": {},
   "outputs": [
    {
     "data": {
      "text/plain": [
       "Category    0\n",
       "Message     0\n",
       "length      0\n",
       "dtype: int64"
      ]
     },
     "execution_count": 5,
     "metadata": {},
     "output_type": "execute_result"
    }
   ],
   "source": [
    "#Check for null values\n",
    "df.isnull().sum()"
   ]
  },
  {
   "cell_type": "markdown",
   "id": "f9098df8",
   "metadata": {},
   "source": [
    "There are no nullvalues in this dataset."
   ]
  },
  {
   "cell_type": "markdown",
   "id": "78102943",
   "metadata": {},
   "source": [
    "**Visualizing the Category feature**"
   ]
  },
  {
   "cell_type": "code",
   "execution_count": 6,
   "id": "8e252a5e",
   "metadata": {},
   "outputs": [
    {
     "data": {
      "text/plain": [
       "ham     4825\n",
       "spam     747\n",
       "Name: Category, dtype: int64"
      ]
     },
     "execution_count": 6,
     "metadata": {},
     "output_type": "execute_result"
    }
   ],
   "source": [
    "#Count of spam and ham messages\n",
    "df[\"Category\"].value_counts()"
   ]
  },
  {
   "cell_type": "code",
   "execution_count": 7,
   "id": "47b87f81",
   "metadata": {},
   "outputs": [
    {
     "data": {
      "text/plain": [
       "<AxesSubplot:xlabel='Category', ylabel='count'>"
      ]
     },
     "execution_count": 7,
     "metadata": {},
     "output_type": "execute_result"
    },
    {
     "data": {
      "image/png": "[encoded data removed]",
      "text/plain": [
       "<Figure size 432x288 with 1 Axes>"
      ]
     },
     "metadata": {
      "needs_background": "light"
     },
     "output_type": "display_data"
    }
   ],
   "source": [
    "sns.countplot(x= df.Category)"
   ]
  },
  {
   "cell_type": "markdown",
   "id": "e229819b",
   "metadata": {},
   "source": [
    "It's evident from the graph above that our dataset contains more non-spam messages than spam ones. There are 4825 ham messages and 747 spam messages."
   ]
  },
  {
   "cell_type": "markdown",
   "id": "8afe960c",
   "metadata": {},
   "source": [
    "# Balance the dataset"
   ]
  },
  {
   "cell_type": "markdown",
   "id": "215736de",
   "metadata": {},
   "source": [
    "The dataset is severely skewed, and training a machine learning model with unbalanced data is not a smart idea.\n",
    "As a result, we'll now balance the data."
   ]
  },
  {
   "cell_type": "code",
   "execution_count": 8,
   "id": "5aaa5061",
   "metadata": {},
   "outputs": [
    {
     "data": {
      "text/html": [
       "<div>\n",
       "<style scoped>\n",
       "    .dataframe tbody tr th:only-of-type {\n",
       "        vertical-align: middle;\n",
       "    }\n",
       "\n",
       "    .dataframe tbody tr th {\n",
       "        vertical-align: top;\n",
       "    }\n",
       "\n",
       "    .dataframe thead th {\n",
       "        text-align: right;\n",
       "    }\n",
       "</style>\n",
       "<table border=\"1\" class=\"dataframe\">\n",
       "  <thead>\n",
       "    <tr style=\"text-align: right;\">\n",
       "      <th></th>\n",
       "      <th>Category</th>\n",
       "      <th>Message</th>\n",
       "      <th>length</th>\n",
       "    </tr>\n",
       "  </thead>\n",
       "  <tbody>\n",
       "    <tr>\n",
       "      <th>0</th>\n",
       "      <td>ham</td>\n",
       "      <td>Go until jurong point, crazy.. Available only ...</td>\n",
       "      <td>111</td>\n",
       "    </tr>\n",
       "    <tr>\n",
       "      <th>1</th>\n",
       "      <td>ham</td>\n",
       "      <td>Ok lar... Joking wif u oni...</td>\n",
       "      <td>29</td>\n",
       "    </tr>\n",
       "    <tr>\n",
       "      <th>3</th>\n",
       "      <td>ham</td>\n",
       "      <td>U dun say so early hor... U c already then say...</td>\n",
       "      <td>49</td>\n",
       "    </tr>\n",
       "    <tr>\n",
       "      <th>4</th>\n",
       "      <td>ham</td>\n",
       "      <td>Nah I don't think he goes to usf, he lives aro...</td>\n",
       "      <td>61</td>\n",
       "    </tr>\n",
       "    <tr>\n",
       "      <th>6</th>\n",
       "      <td>ham</td>\n",
       "      <td>Even my brother is not like to speak with me. ...</td>\n",
       "      <td>77</td>\n",
       "    </tr>\n",
       "  </tbody>\n",
       "</table>\n",
       "</div>"
      ],
      "text/plain": [
       "  Category                                            Message  length\n",
       "0      ham  Go until jurong point, crazy.. Available only ...     111\n",
       "1      ham                      Ok lar... Joking wif u oni...      29\n",
       "3      ham  U dun say so early hor... U c already then say...      49\n",
       "4      ham  Nah I don't think he goes to usf, he lives aro...      61\n",
       "6      ham  Even my brother is not like to speak with me. ...      77"
      ]
     },
     "execution_count": 8,
     "metadata": {},
     "output_type": "execute_result"
    }
   ],
   "source": [
    "ham = df[df[\"Category\"]==\"ham\"]\n",
    "ham.head()"
   ]
  },
  {
   "cell_type": "code",
   "execution_count": 9,
   "id": "909de669",
   "metadata": {},
   "outputs": [
    {
     "data": {
      "text/html": [
       "<div>\n",
       "<style scoped>\n",
       "    .dataframe tbody tr th:only-of-type {\n",
       "        vertical-align: middle;\n",
       "    }\n",
       "\n",
       "    .dataframe tbody tr th {\n",
       "        vertical-align: top;\n",
       "    }\n",
       "\n",
       "    .dataframe thead th {\n",
       "        text-align: right;\n",
       "    }\n",
       "</style>\n",
       "<table border=\"1\" class=\"dataframe\">\n",
       "  <thead>\n",
       "    <tr style=\"text-align: right;\">\n",
       "      <th></th>\n",
       "      <th>Category</th>\n",
       "      <th>Message</th>\n",
       "      <th>length</th>\n",
       "    </tr>\n",
       "  </thead>\n",
       "  <tbody>\n",
       "    <tr>\n",
       "      <th>2</th>\n",
       "      <td>spam</td>\n",
       "      <td>Free entry in 2 a wkly comp to win FA Cup fina...</td>\n",
       "      <td>155</td>\n",
       "    </tr>\n",
       "    <tr>\n",
       "      <th>5</th>\n",
       "      <td>spam</td>\n",
       "      <td>FreeMsg Hey there darling it's been 3 week's n...</td>\n",
       "      <td>147</td>\n",
       "    </tr>\n",
       "    <tr>\n",
       "      <th>8</th>\n",
       "      <td>spam</td>\n",
       "      <td>WINNER!! As a valued network customer you have...</td>\n",
       "      <td>157</td>\n",
       "    </tr>\n",
       "    <tr>\n",
       "      <th>9</th>\n",
       "      <td>spam</td>\n",
       "      <td>Had your mobile 11 months or more? U R entitle...</td>\n",
       "      <td>154</td>\n",
       "    </tr>\n",
       "    <tr>\n",
       "      <th>11</th>\n",
       "      <td>spam</td>\n",
       "      <td>SIX chances to win CASH! From 100 to 20,000 po...</td>\n",
       "      <td>136</td>\n",
       "    </tr>\n",
       "  </tbody>\n",
       "</table>\n",
       "</div>"
      ],
      "text/plain": [
       "   Category                                            Message  length\n",
       "2      spam  Free entry in 2 a wkly comp to win FA Cup fina...     155\n",
       "5      spam  FreeMsg Hey there darling it's been 3 week's n...     147\n",
       "8      spam  WINNER!! As a valued network customer you have...     157\n",
       "9      spam  Had your mobile 11 months or more? U R entitle...     154\n",
       "11     spam  SIX chances to win CASH! From 100 to 20,000 po...     136"
      ]
     },
     "execution_count": 9,
     "metadata": {},
     "output_type": "execute_result"
    }
   ],
   "source": [
    "spam = df[df[\"Category\"]==\"spam\"]\n",
    "spam.head()"
   ]
  },
  {
   "cell_type": "code",
   "execution_count": 10,
   "id": "c7d675bb",
   "metadata": {},
   "outputs": [
    {
     "data": {
      "text/plain": [
       "((747, 3), (4825, 3))"
      ]
     },
     "execution_count": 10,
     "metadata": {},
     "output_type": "execute_result"
    }
   ],
   "source": [
    "#print the shape of spam and ham\n",
    "spam.shape, ham.shape"
   ]
  },
  {
   "cell_type": "markdown",
   "id": "19b9b52a",
   "metadata": {},
   "source": [
    "There are 747 messages in our spam dataset and 4825 messages in our ham dataset. We need to choose 747 messages from the ham dataset to balance the data."
   ]
  },
  {
   "cell_type": "code",
   "execution_count": 11,
   "id": "5fc959f4",
   "metadata": {},
   "outputs": [
    {
     "data": {
      "text/plain": [
       "((747, 3), (747, 3))"
      ]
     },
     "execution_count": 11,
     "metadata": {},
     "output_type": "execute_result"
    }
   ],
   "source": [
    "ham = ham.sample(spam.shape[0])\n",
    "ham.shape, spam.shape"
   ]
  },
  {
   "cell_type": "markdown",
   "id": "023842cc",
   "metadata": {},
   "source": [
    "We've now achieved perfect data balance."
   ]
  },
  {
   "cell_type": "code",
   "execution_count": 12,
   "id": "6e9605a9",
   "metadata": {},
   "outputs": [
    {
     "data": {
      "text/html": [
       "<div>\n",
       "<style scoped>\n",
       "    .dataframe tbody tr th:only-of-type {\n",
       "        vertical-align: middle;\n",
       "    }\n",
       "\n",
       "    .dataframe tbody tr th {\n",
       "        vertical-align: top;\n",
       "    }\n",
       "\n",
       "    .dataframe thead th {\n",
       "        text-align: right;\n",
       "    }\n",
       "</style>\n",
       "<table border=\"1\" class=\"dataframe\">\n",
       "  <thead>\n",
       "    <tr style=\"text-align: right;\">\n",
       "      <th></th>\n",
       "      <th>Category</th>\n",
       "      <th>Message</th>\n",
       "      <th>length</th>\n",
       "    </tr>\n",
       "  </thead>\n",
       "  <tbody>\n",
       "    <tr>\n",
       "      <th>0</th>\n",
       "      <td>ham</td>\n",
       "      <td>Oh k.k..where did you take test?</td>\n",
       "      <td>32</td>\n",
       "    </tr>\n",
       "    <tr>\n",
       "      <th>1</th>\n",
       "      <td>ham</td>\n",
       "      <td>I dont know what to do to come out of this so ...</td>\n",
       "      <td>94</td>\n",
       "    </tr>\n",
       "    <tr>\n",
       "      <th>2</th>\n",
       "      <td>ham</td>\n",
       "      <td>Gd luck 4 ur exams :-)</td>\n",
       "      <td>22</td>\n",
       "    </tr>\n",
       "    <tr>\n",
       "      <th>3</th>\n",
       "      <td>ham</td>\n",
       "      <td>Very hurting n meaningful lines ever: \"I compr...</td>\n",
       "      <td>147</td>\n",
       "    </tr>\n",
       "    <tr>\n",
       "      <th>4</th>\n",
       "      <td>ham</td>\n",
       "      <td>Neshanth..tel me who r u?</td>\n",
       "      <td>25</td>\n",
       "    </tr>\n",
       "  </tbody>\n",
       "</table>\n",
       "</div>"
      ],
      "text/plain": [
       "  Category                                            Message  length\n",
       "0      ham                   Oh k.k..where did you take test?      32\n",
       "1      ham  I dont know what to do to come out of this so ...      94\n",
       "2      ham                             Gd luck 4 ur exams :-)      22\n",
       "3      ham  Very hurting n meaningful lines ever: \"I compr...     147\n",
       "4      ham                          Neshanth..tel me who r u?      25"
      ]
     },
     "execution_count": 12,
     "metadata": {},
     "output_type": "execute_result"
    }
   ],
   "source": [
    "#Append the dataset to df\n",
    "df = ham.append(spam, ignore_index=True)\n",
    "df.head()"
   ]
  },
  {
   "cell_type": "markdown",
   "id": "e570ada2",
   "metadata": {},
   "source": [
    "# Most frequently used words in spam messages"
   ]
  },
  {
   "cell_type": "code",
   "execution_count": 13,
   "id": "87c23274",
   "metadata": {},
   "outputs": [
    {
     "data": {
      "image/png": "[encoded data removed]",
      "text/plain": [
       "<Figure size 432x288 with 1 Axes>"
      ]
     },
     "metadata": {
      "needs_background": "light"
     },
     "output_type": "display_data"
    }
   ],
   "source": [
    "word_text = df[df.Category == 'spam']\n",
    "\n",
    "text = \" \".join(text for text in word_text[\"Message\"])\n",
    "\n",
    "word_cloud = WordCloud(background_color = \"white\", max_words=150, collocations = False).generate(text)\n",
    "\n",
    "plt.imshow(word_cloud, interpolation='bilinear')\n",
    "plt.title(\"Words That Are Frequently Used In Spam\", fontsize=20, y=1.1)\n",
    "plt.axis(\"off\");"
   ]
  },
  {
   "cell_type": "markdown",
   "id": "df96f73c",
   "metadata": {},
   "source": [
    "Spam Text contains words like \"call\", \"free\", \"claim\", \"now etc\""
   ]
  },
  {
   "cell_type": "markdown",
   "id": "62f129e8",
   "metadata": {},
   "source": [
    "# Most Frequently used words in ham messages"
   ]
  },
  {
   "cell_type": "code",
   "execution_count": 14,
   "id": "7129e706",
   "metadata": {},
   "outputs": [
    {
     "data": {
      "image/png": "[encoded data removed]",
      "text/plain": [
       "<Figure size 432x288 with 1 Axes>"
      ]
     },
     "metadata": {
      "needs_background": "light"
     },
     "output_type": "display_data"
    }
   ],
   "source": [
    "nonspam_text= df[df.Category == \"ham\"]\n",
    "\n",
    "hamtexts= \" \".join(text for text in nonspam_text[\"Message\"])\n",
    "\n",
    "nonspam_cloud = WordCloud(background_color = 'white', max_words=150, collocations = False).generate(hamtexts)\n",
    "\n",
    "plt.imshow(nonspam_cloud, interpolation='bilinear')\n",
    "plt.title(\"Words That Are Frequently Used In ham\", fontsize=20, y=1.1)\n",
    "plt.axis(\"off\");"
   ]
  },
  {
   "cell_type": "markdown",
   "id": "f640482b",
   "metadata": {},
   "source": [
    "Ham text contains words like \"now\", \"know\", \"u\", \"wil\" etc"
   ]
  },
  {
   "cell_type": "markdown",
   "id": "31456efe",
   "metadata": {},
   "source": [
    "# DATA PREPROCESSING"
   ]
  },
  {
   "cell_type": "markdown",
   "id": "b5551aef",
   "metadata": {},
   "source": [
    " **Tokenizer**"
   ]
  },
  {
   "cell_type": "markdown",
   "id": "6888b088",
   "metadata": {},
   "source": [
    "Let's create a custom tokenizer function with spaCy. This feature will be used to automatically eliminate non-essential material from each review, such as stopwords and punctuation."
   ]
  },
  {
   "cell_type": "code",
   "execution_count": 15,
   "id": "bb4f343a",
   "metadata": {},
   "outputs": [],
   "source": [
    "#Create list of punctuation marks\n",
    "punct = string.punctuation\n",
    "\n",
    "#Create list of stopwords\n",
    "nlp = spacy.load(\"en_core_web_sm\")\n",
    "stop_words = spacy.lang.en.stop_words.STOP_WORDS\n",
    "\n",
    "parser = English()\n",
    "\n",
    "def tokenizer(sentence):\n",
    "    #create an object\n",
    "    token = parser(sentence)\n",
    "    #Each string is lemmatized and converted to lower case.\n",
    "    token = [ word.lemma_.lower().strip() if word.lemma_ != \"-PRON-\" else word.lower_ for word in token ]\n",
    "    #Deleting stopwords\n",
    "    token = [ word for word in token if word not in stop_words and word not in punct ]\n",
    "    return token"
   ]
  },
  {
   "cell_type": "markdown",
   "id": "e13aca81",
   "metadata": {},
   "source": [
    "To tidy up our text data even more, we'll need to make a custom transformer that removes the first and last spaces and converts the text to lower case."
   ]
  },
  {
   "cell_type": "code",
   "execution_count": 16,
   "id": "019ad2ba",
   "metadata": {},
   "outputs": [],
   "source": [
    "from sklearn.base import TransformerMixin\n",
    "class token(TransformerMixin):\n",
    "    def transform(self, x, **transform_params):\n",
    "        #Purify the text\n",
    "        return [purify_token(term) for term in x]\n",
    "    \n",
    "    def fit(self, x, y=None, **fit_params):\n",
    "        return self\n",
    "\n",
    "    def get_params(self, deep=True):\n",
    "        return {}\n",
    "#Define a function to purify the content  \n",
    "def purify_token(term):\n",
    "    \n",
    "    #Converting text to lowercase and removing spaces\n",
    "    return term.strip().lower()"
   ]
  },
  {
   "cell_type": "markdown",
   "id": "f711410e",
   "metadata": {},
   "source": [
    " **Words or word groups that have had letters removed and been replaced with an apostrophe are said to be contracted**"
   ]
  },
  {
   "cell_type": "code",
   "execution_count": 17,
   "id": "42518c47",
   "metadata": {},
   "outputs": [],
   "source": [
    "#Defining contactions\n",
    "contractions = {\n",
    "\"aight\": \"alright\",\n",
    "\"ain't\": \"am not\",\n",
    "\"amn't\": \"am not\",\n",
    "\"aren't\": \"are not\",\n",
    "\"can't\": \"can not\",\n",
    "\"cause\": \"because\",\n",
    "\"could've\": \"could have\",\n",
    "\"couldn't\": \"could not\",\n",
    "\"couldn't've\": \"could not have\",\n",
    "\"daren't\": \"dare not\",\n",
    "\"daresn't\": \"dare not\",\n",
    "\"dasn't\": \"dare not\",\n",
    "\"didn't\": \"did not\",\n",
    "\"doesn't\": \"does not\",\n",
    "\"don't\": \"do not\",\n",
    "\"d'ye\": \"do you\",\n",
    "\"e'er\": \"ever\",\n",
    "\"everybody's\": \"everybody is\",\n",
    "\"everyone's\": \"everyone is\",\n",
    "\"finna\": \"fixing to\",\n",
    "\"g'day\": \"good day\",\n",
    "\"gimme\": \"give me\",\n",
    "\"giv'n\": \"given\",\n",
    "\"gonna\": \"going to\",\n",
    "\"gon't\": \"go not\",\n",
    "\"gotta\": \"got to\",\n",
    "\"hadn't\": \"had not\",\n",
    "\"had've\": \"had have\",\n",
    "\"hasn't\": \"has not\",\n",
    "\"haven't\": \"have not\",\n",
    "\"he'd\": \"he would\",\n",
    "\"he'dn't've'd\": \"he would not have had\",\n",
    "\"he'll\": \"he will\",\n",
    "\"he's\": \"he is\",\n",
    "\"he've\": \"he have\",\n",
    "\"how'd\": \"how did\",\n",
    "\"howdy\": \"how do you do\",\n",
    "\"how'll\": \"how will\",\n",
    "\"how're\": \"how are\",\n",
    "\"I'll\": \"I will\",\n",
    "\"I'm\": \"I am\",\n",
    "\"I'm'a\": \"I am about to\",\n",
    "\"I'm'o\": \"I am going to\",\n",
    "\"innit\": \"is it not\",\n",
    "\"I've\": \"I have\",\n",
    "\"isn't\": \"is not\",\n",
    "\"it'd\": \"it would\",\n",
    "\"it'll\": \"it will\",\n",
    "\"it's\": \"it is\",\n",
    "\"let's\": \"let us\",\n",
    "\"ma'am\": \"madam\",\n",
    "\"mayn't\": \"may not\",\n",
    "\"may've\": \"may have\",\n",
    "\"methinks\": \"me thinks\",\n",
    "\"mightn't\": \"might not\",\n",
    "\"might've\": \"might have\",\n",
    "\"mustn't\": \"must not\",\n",
    "\"mustn't've\": \"must not have\",\n",
    "\"must've\": \"must have\",\n",
    "\"needn't\": \"need not\",\n",
    "\"ne'er\": \"never\",\n",
    "\"o'clock\": \"of the clock\",\n",
    "\"o'er\": \"over\",\n",
    "\"ol'\": \"old\",\n",
    "\"oughtn't\": \"ought not\",\n",
    "\"'s\": \"is, has, does, or us\",\n",
    "\"shalln't\": \"shall not\",\n",
    "\"shan't\": \"shall not\",\n",
    "\"she'd\": \"she had\",\n",
    "\"she'll\": \"she will\",\n",
    "\"she's\": \"she is\",\n",
    "\"should've\": \"should have\",\n",
    "\"shouldn't\": \"should not\",\n",
    "\"shouldn't've\": \"should not have\",\n",
    "\"somebody's\": \"somebody is\",\n",
    "\"someone's\": \"someone is\",\n",
    "\"something's\": \"something is\",\n",
    "\"so're\": \"so are\",\n",
    "\"that'll\": \"that will\",\n",
    "\"that're\": \"that are\",\n",
    "\"that's\": \"that is\",\n",
    "\"that'd\": \"that would\",\n",
    "\"there'd\": \"there had\",\n",
    "\"there'll\": \"there will\",\n",
    "\"there're\": \"there are\",\n",
    "\"there's\": \"there is\",\n",
    "\"these're\": \"these are\",\n",
    "\"these've\": \"these have\",\n",
    "\"they'd\": \"they had\",\n",
    "\"they'll\": \"they will\",\n",
    "\"they're\": \"they are\",\n",
    "\"they've\": \"they have\",\n",
    "\"this's\": \"this is\",\n",
    "\"those're\": \"those are\",\n",
    "\"those've\": \"those have\",\n",
    "\"'tis\": \"it is\",\n",
    "\"to've\": \"to have\",\n",
    "\"'twas\": \"it was\",\n",
    "\"wanna\": \"want to\",\n",
    "\"wasn't\": \"was not\",\n",
    "\"we'd\": \"we had\",\n",
    "\"we'll\": \"we will\",\n",
    "\"we're\": \"we are\",\n",
    "\"we've\": \"we have\",\n",
    "\"weren't\": \"were not\",\n",
    "\"what'd\": \"what did\",\n",
    "\"what'll\": \"what will\",\n",
    "\"what're\": \"what are\",\n",
    "\"what's\": \"what is\",\n",
    "\"what've\": \"what have\",\n",
    "\"when's\": \"when is\",\n",
    "\"where'd\": \"where did\",\n",
    "\"where'll\": \"where will\",\n",
    "\"where're\": \"where are\",\n",
    "\"where's\": \"where is\",\n",
    "\"where's\": \"where does\",\n",
    "\"where've\": \"where have\",\n",
    "\"which'd\": \"which would\",\n",
    "\"which'll\": \"which will\",\n",
    "\"which're\": \"which are\",\n",
    "\"which's\": \"which is\",\n",
    "\"which've\": \"which have\",\n",
    "\"who'd\": \"who would\",\n",
    "\"who'd've\": \"who would have\",\n",
    "\"who'll\": \"who will\",\n",
    "\"who're\": \"who are\",\n",
    "\"who's\": \"who does\",\n",
    "\"who've\": \"who have\",\n",
    "\"why'd\": \"why did\",\n",
    "\"why're\": \"why are\",\n",
    "\"why's\": \"why does\",\n",
    "\"won't\": \"will not\",\n",
    "\"would've\": \"would have\",\n",
    "\"wouldn't\": \"would not\",\n",
    "\"wouldn't've\": \"would not have\",\n",
    "\"y'all\": \"you all\",\n",
    "\"y'all'd've\": \"you all would have\",\n",
    "\"y'all'dn't've'd\": \"you all would not have had\",\n",
    "\"y'all're\": \"you all are\",\n",
    "\"you'd\": \"you would\",\n",
    "\"you'll\": \"you will\",\n",
    "\"you're\": \"you are\",\n",
    "\"you've\": \"you have\",\n",
    "\" u \": \"you\",\n",
    "\" ur \": \"your\",\n",
    "\" n \": \"and\"\n",
    "}"
   ]
  },
  {
   "cell_type": "code",
   "execution_count": 18,
   "id": "02d4c53f",
   "metadata": {},
   "outputs": [],
   "source": [
    "def decontracted(a):\n",
    "    if type(a) is str:\n",
    "        for key in contractions:\n",
    "            value = contractions[key]\n",
    "            a = a.replace(key,value)\n",
    "        return a\n",
    "    else:\n",
    "        return a"
   ]
  },
  {
   "cell_type": "code",
   "execution_count": 19,
   "id": "4f3e8536",
   "metadata": {},
   "outputs": [],
   "source": [
    "df[\"Message\"] = df[\"Message\"].apply(lambda a: decontracted(a))"
   ]
  },
  {
   "cell_type": "markdown",
   "id": "2ac6c66c",
   "metadata": {},
   "source": [
    "Replaced words which are shortened by dropping letters with apostrophe"
   ]
  },
  {
   "cell_type": "markdown",
   "id": "431074d8",
   "metadata": {},
   "source": [
    "# Feature Extraction"
   ]
  },
  {
   "cell_type": "markdown",
   "id": "7bf2c275",
   "metadata": {},
   "source": [
    "**Bag of Words**"
   ]
  },
  {
   "cell_type": "markdown",
   "id": "6fa179df",
   "metadata": {},
   "source": [
    "Let's categorize the text into two groups: spam and ham labels. Bag of Words (BoW) transforms text into a matrix of word occurrences inside a document. It focuses on whether certain terms appeared in the document or not, and it generates a matrix known as a BoW matrix or a document term matrix."
   ]
  },
  {
   "cell_type": "code",
   "execution_count": 20,
   "id": "cca69467",
   "metadata": {},
   "outputs": [],
   "source": [
    "BoW = CountVectorizer(tokenizer = tokenizer, ngram_range=(1,1))"
   ]
  },
  {
   "cell_type": "markdown",
   "id": "e758154f",
   "metadata": {},
   "source": [
    "**TF-IDF method of normalizing our Bag of Words (BoW) by comparing the frequency of each word to the frequency of the document**"
   ]
  },
  {
   "cell_type": "code",
   "execution_count": 21,
   "id": "113a23c3",
   "metadata": {},
   "outputs": [],
   "source": [
    "tfidf = TfidfVectorizer(tokenizer = tokenizer)"
   ]
  },
  {
   "cell_type": "markdown",
   "id": "0bda78a0",
   "metadata": {},
   "source": [
    "# Converting to numeric value"
   ]
  },
  {
   "cell_type": "code",
   "execution_count": 22,
   "id": "579c516a",
   "metadata": {},
   "outputs": [],
   "source": [
    "x = df[\"Message\"]\n",
    "df[\"new_category\"]= df[\"Category\"].apply(lambda x: 1 if x==\"spam\" else 0)\n",
    "y = df[\"new_category\"]"
   ]
  },
  {
   "cell_type": "code",
   "execution_count": 23,
   "id": "b5cd1979",
   "metadata": {},
   "outputs": [],
   "source": [
    "vectorizer = CountVectorizer()\n",
    "X = vectorizer.fit_transform(x).toarray()"
   ]
  },
  {
   "cell_type": "markdown",
   "id": "e2f00b49",
   "metadata": {},
   "source": [
    "# Splitting the dataset into train and test set"
   ]
  },
  {
   "cell_type": "code",
   "execution_count": 24,
   "id": "8b0c409e",
   "metadata": {},
   "outputs": [],
   "source": [
    "x_train,x_test, y_train, y_test= train_test_split(X,y,test_size=0.3, random_state=0, \n",
    "                                                  shuffle=True, stratify= y)"
   ]
  },
  {
   "cell_type": "markdown",
   "id": "e876327b",
   "metadata": {},
   "source": [
    "# DECISION TREE CLASSIFIER"
   ]
  },
  {
   "cell_type": "code",
   "execution_count": 25,
   "id": "037dd96c",
   "metadata": {},
   "outputs": [
    {
     "name": "stdout",
     "output_type": "stream",
     "text": [
      "Accuracy Score: 1.0\n",
      "              precision    recall  f1-score   support\n",
      "\n",
      "           0       1.00      1.00      1.00       522\n",
      "           1       1.00      1.00      1.00       523\n",
      "\n",
      "    accuracy                           1.00      1045\n",
      "   macro avg       1.00      1.00      1.00      1045\n",
      "weighted avg       1.00      1.00      1.00      1045\n",
      "\n"
     ]
    }
   ],
   "source": [
    "#Create the object model\n",
    "model1= DecisionTreeClassifier()\n",
    "#Fit model to data\n",
    "model1.fit(x_train, y_train)\n",
    "#Generate Predictions\n",
    "model1_predict=model1.predict(x_train)\n",
    "#Generate accuracy\n",
    "accuracy = accuracy_score(y_train, model1_predict)\n",
    "print(\"Accuracy Score:\", accuracy)\n",
    "#Genrate classification report\n",
    "\n",
    "print(classification_report(y_train, model1_predict))"
   ]
  },
  {
   "cell_type": "markdown",
   "id": "42bd4921",
   "metadata": {},
   "source": [
    "# Random Forest model"
   ]
  },
  {
   "cell_type": "code",
   "execution_count": 26,
   "id": "e26512f8",
   "metadata": {},
   "outputs": [
    {
     "name": "stdout",
     "output_type": "stream",
     "text": [
      "Accuracy Score: 1.0\n",
      "              precision    recall  f1-score   support\n",
      "\n",
      "           0       1.00      1.00      1.00       522\n",
      "           1       1.00      1.00      1.00       523\n",
      "\n",
      "    accuracy                           1.00      1045\n",
      "   macro avg       1.00      1.00      1.00      1045\n",
      "weighted avg       1.00      1.00      1.00      1045\n",
      "\n"
     ]
    }
   ],
   "source": [
    "#Create the object model\n",
    "model= RandomForestClassifier()\n",
    "#Fit model to data\n",
    "model.fit(x_train, y_train)\n",
    "#Generate Predictions\n",
    "model_predict = model.predict(x_train)\n",
    "#Generate accuracy\n",
    "accuracy = accuracy_score(y_train, model_predict)\n",
    "print(\"Accuracy Score:\", accuracy)\n",
    "#Generate classification report\n",
    "print(classification_report(y_train, model_predict))"
   ]
  },
  {
   "cell_type": "markdown",
   "id": "e69a8e3f",
   "metadata": {},
   "source": [
    "# Decision Tree with Hyperparameter tuning"
   ]
  },
  {
   "cell_type": "code",
   "execution_count": null,
   "id": "3d82e0f4",
   "metadata": {},
   "outputs": [],
   "source": [
    "\n",
    "#define parameters\n",
    "parameters_grid = {\"max_depth\":range(1, model1.tree_.max_depth+1, 2),\n",
    "                   \"max_features\": range(1, len(model1.feature_importances_)+1)}\n",
    "\n",
    "#define grid search for training model\n",
    "model5 = GridSearchCV(DecisionTreeClassifier(random_state=42),\n",
    "                      param_grid=parameters_grid,\n",
    "                      scoring='accuracy',\n",
    "                      n_jobs=-1)\n",
    "\n",
    "model5.fit(x_train, y_train)\n",
    "\n",
    "#generate accuracy \n",
    "print(\"Accuracy of best Decision Tree classifier= {:.2f}\".format(model5.best_score_))\n",
    "print(\"Best found hyperparameters of Decision Tree classifier= {}\"\n",
    "      .format(model5.best_params_))"
   ]
  },
  {
   "cell_type": "markdown",
   "id": "22d720f5",
   "metadata": {},
   "source": [
    "# Testing the best model"
   ]
  },
  {
   "cell_type": "code",
   "execution_count": 29,
   "id": "7912c103",
   "metadata": {},
   "outputs": [
    {
     "name": "stdout",
     "output_type": "stream",
     "text": [
      "              precision    recall  f1-score   support\n",
      "\n",
      "           0       0.90      1.00      0.95       225\n",
      "           1       1.00      0.89      0.94       224\n",
      "\n",
      "    accuracy                           0.94       449\n",
      "   macro avg       0.95      0.94      0.94       449\n",
      "weighted avg       0.95      0.94      0.94       449\n",
      "\n"
     ]
    }
   ],
   "source": [
    "Y_predicted = model.predict(x_test)\n",
    "accuracy = sklearn.metrics.accuracy_score(y_test, Y_predicted)\n",
    "accuracy\n",
    "#Generate classification report\n",
    "print(classification_report(y_test, Y_predicted))"
   ]
  },
  {
   "cell_type": "markdown",
   "id": "d7058509",
   "metadata": {},
   "source": [
    "# Conclusion"
   ]
  },
  {
   "cell_type": "markdown",
   "id": "5839dd22",
   "metadata": {},
   "source": [
    "For spam text classification, we achieved a 93% accuracy rate. Our program correctly predicted spam messages 99 percent of the time and non-spam messages 89 percent of the time. The text was divided into two categories: spam and ham labels. Bag of Words (BoW) converts text into a matrix of word occurrences inside a document, which is then normalized using the Tf-IDF approach. Finally, using the usual random-forest classification method, a model with 93 percent accuracy was obtained."
   ]
  },
  {
   "cell_type": "markdown",
   "id": "5683341c",
   "metadata": {},
   "source": [
    "Dataset link: https://www.kaggle.com/datasets/team-ai/spam-text-message-classification"
   ]
  },
  {
   "cell_type": "markdown",
   "id": "ef874448",
   "metadata": {},
   "source": [
    "**References**\n",
    "\n",
    "Kaggele: https://www.kaggle.com/datasets/team-ai/spam-text-message-classification\n",
    "\n",
    " [Pietro, Mauro, 2020] Textclassification with NLP\n",
    " \n",
    "kaggel: https://www.kaggle.com/code/mrvendetta7/spamham-classification-99-accuracy-with-fastai\n"
   ]
  },
  {
   "cell_type": "code",
   "execution_count": null,
   "id": "15bdf295",
   "metadata": {},
   "outputs": [],
   "source": []
  }
 ],
 "metadata": {
  "kernelspec": {
   "display_name": "Python 3 (ipykernel)",
   "language": "python",
   "name": "python3"
  },
  "language_info": {
   "codemirror_mode": {
    "name": "ipython",
    "version": 3
   },
   "file_extension": ".py",
   "mimetype": "text/x-python",
   "name": "python",
   "nbconvert_exporter": "python",
   "pygments_lexer": "ipython3",
   "version": "3.8.12"
  }
 },
 "nbformat": 4,
 "nbformat_minor": 5
}
